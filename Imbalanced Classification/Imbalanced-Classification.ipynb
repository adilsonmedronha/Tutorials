{
 "cells": [
  {
   "cell_type": "markdown",
   "metadata": {},
   "source": [
    "# Imbalanced Classification With Python\n",
    "\n",
    "***This is my notes of 7-day Mini-Course (created by Jason Brownlee) <br>*** *May have some classmates insights*\n",
    "\n",
    "This crash course is broken down into 7 lessons.\n",
    "\n",
    "* Lesson 01: Challenge of Imbalanced Classification\n",
    "* Lesson 02: Intuition for Imbalanced Data\n",
    "* Lesson 03: Evaluate Imbalanced Classification Models\n",
    "* Lesson 04: Undersampling the Majority Class\n",
    "* Lesson 05: Oversampling the Minority Class\n",
    "* Lesson 06: Combine Data Undersampling and Oversampling\n",
    "* Lesson 07: Cost-Sensitive Algorithms"
   ]
  },
  {
   "cell_type": "markdown",
   "metadata": {},
   "source": [
    "## Challenge of Imbalanced Classification\n",
    "* Learners = representation + evaluation + optimization => Machine Learning <br>\n",
    "were designed around the assumption of an **equal number of examples for each class**\n",
    "\n",
    "* **Imbalanced data**: the classes are not represented equally. This results in models <br> that have poor predictive performance, specifically for the minority class. \n",
    "    * This is a problem because typically, the **minority class** is more important and <br> therefore the problem is more sensitive to classification errors <br> for the minority class than the majority class. \n",
    "* Most classification data sets do not have exactly equal number of instances in each class, <br>\n",
    " but a small difference often does not matter. \n",
    "* Many of the classification predictive modeling problems that we are interested in <br> solving in practice are imbalanced.\n",
    "\n",
    "**Ten general examples of problems that inherently have a class imbalanced**\n",
    "\n",
    "1. Fraud detection. There are much more good clients \n",
    "2. Weed detection from plant attributes\n",
    "3. Predicting customer churn behavior in telemarketing\n",
    "4. Airport security profiling travelers for terrorist threat. (TSA pre-check etc.)\n",
    "5. Legitimate vs spam email\n",
    "6. Automatic detection of defects in mass-produced products\n",
    "7. Any anomaly detection \n",
    "    * Detecting patients with rare genetic diseases in medical databases\n",
    "    * Normal ocean waves sensor data vs tsunami waves\n",
    "    * Predicting skin cancer from medical images \n",
    "    * Intrusion Detection\n",
    "8. Datacenter malfunction conditions of servers\n",
    "9. COVID-19 exposure detection\n",
    "10. Sentiment analysis where we see more positive reviews"
   ]
  },
  {
   "cell_type": "markdown",
   "metadata": {},
   "source": [
    "## Intuition for Imbalanced Data\n",
    "\n",
    "A challenge for beginners working with imbalanced classification problems <br> \n",
    "is what a specific skewed class distribution means. For example, <br> **what is the difference and implication for a 1:10 vs. a 1:100 class ratio?** <br>\n",
    "\n",
    "scikit-learn method [here](https://scikit-learn.org/stable/modules/generated/sklearn.datasets.make_classification.html)"
   ]
  },
  {
   "cell_type": "code",
   "execution_count": 79,
   "metadata": {},
   "outputs": [
    {
     "name": "stdout",
     "output_type": "stream",
     "text": [
      "Counter({0: 990, 1: 10})\n"
     ]
    },
    {
     "data": {
      "image/png": "[encoded data removed]",
      "text/plain": [
       "<Figure size 432x288 with 1 Axes>"
      ]
     },
     "metadata": {
      "needs_background": "light"
     },
     "output_type": "display_data"
    }
   ],
   "source": [
    "from collections import Counter\n",
    "from sklearn.datasets import make_classification\n",
    "from matplotlib import pyplot\n",
    "from numpy import where\n",
    "# define dataset\n",
    "X, y = make_classification(n_samples=1000, n_features=2, n_redundant=0, n_clusters_per_class=1, weights=[0.99, 0.01], flip_y=0)\n",
    "# summarize class distribution\n",
    "counter = Counter(y)\n",
    "print(counter)\n",
    "# scatter plot of examples by class label\n",
    "for label, _ in counter.items():\n",
    "\trow_ix = where(y == label)[0]\n",
    "\tpyplot.scatter(X[row_ix, 0], X[row_ix, 1], label=str(label))\n",
    "pyplot.legend()\n",
    "pyplot.show()"
   ]
  },
  {
   "cell_type": "markdown",
   "metadata": {},
   "source": [
    "This plot provides a visual intuition for what exactly a 99 percent vs. 1 <br>\n",
    "percent majority/minority class imbalance looks like in practice.\n"
   ]
  },
  {
   "cell_type": "markdown",
   "metadata": {},
   "source": [
    "## Evaluate Imbalanced Classification Models\n",
    "\n",
    "How to evaluate models on imbalanced classification problems?\n",
    "* Prediction accuracy is the most common metric for classification tasks (although it is inappropriate and potentially dangerously misleading when used on imbalanced classification). *e.g.: if 98 percent of the data belongs to the negative class, you can achieve 98 percent accuracy on average by simply predicting the negative class all the time, achieving a score that naively looks good, but in practice has no skill.*\n",
    "\n",
    "Instead, alternate performance metrics must be adopted:\n",
    "* **Precision** calculates the ratio of the number of correctly predicted positive examples divided by the total number of positive examples that were predicted. **Maximizing** the precision will minimize the false positives. \n",
    "\n",
    "\\begin{equation}\n",
    "\\tag{1}\n",
    "Precision= \\frac{TP}{TP+FP}\n",
    "\\end{equation}\n",
    "\n",
    "\n",
    "* **Recall** predicts the ratio of the total number of correctly predicted positive examples divided by the total number of positive examples that could have been predicted. **Maximizing** recall will minimize false negatives. \n",
    "\\begin{equation}\n",
    "\\tag{2}\n",
    "Recall = \\frac{TP}{TP+FN}\n",
    "\\end{equation}\n",
    "\n",
    "* **F-measure**: the performance of a model can be summarized by F-measure that averages both the precision and the recall. **Maximizing** the F-Measure will maximize both the precision and recall at the same time\n",
    "\\begin{equation}\n",
    "\\tag{3}\n",
    "Fmeasure = \\frac{2 * Precision * Recall}{Precision + Recall}\n",
    "\\end{equation}"
   ]
  },
  {
   "cell_type": "markdown",
   "metadata": {},
   "source": [
    "The example below fits a logistic regression model on an imbalanced classification problem and calculates the accuracy, which can then be compared to the [precision](https://scikit-learn.org/stable/modules/generated/sklearn.metrics.precision_score.html), [recall](https://scikit-learn.org/stable/modules/generated/sklearn.metrics.recall_score.html), [F-measure](https://scikit-learn.org/stable/modules/generated/sklearn.metrics.f1_score.html) and [ROC AUC](https://scikit-learn.org/stable/modules/generated/sklearn.metrics.roc_auc_score.html)."
   ]
  },
  {
   "cell_type": "code",
   "execution_count": 9,
   "metadata": {},
   "outputs": [
    {
     "name": "stdout",
     "output_type": "stream",
     "text": [
      "Accuracy: 0.995\n",
      "Precision: 1.000\n",
      "Recall: 0.460\n",
      "F-measure: 0.630\n",
      "ROC AUC:  0.730\n"
     ]
    }
   ],
   "source": [
    "# evaluate imbalanced classification model with different metrics\n",
    "from sklearn.datasets import make_classification\n",
    "from sklearn.model_selection import train_test_split\n",
    "from sklearn.linear_model import LogisticRegression\n",
    "from sklearn.metrics import accuracy_score, precision_score, recall_score, f1_score, roc_auc_score\n",
    "# generate dataset\n",
    "X, y = make_classification(n_samples=10000, n_features=2, n_redundant=0, n_clusters_per_class=1, weights=[0.99], flip_y=0)\n",
    "# split into train/test sets with same class ratio\n",
    "trainX, testX, trainy, testy = train_test_split(X, y, test_size=0.5, stratify=y)\n",
    "# define model\n",
    "model = LogisticRegression(solver='liblinear')\n",
    "# fit model\n",
    "model.fit(trainX, trainy)\n",
    "# predict on test set\n",
    "yhat = model.predict(testX)\n",
    "# evaluate predictions\n",
    "print('Accuracy: %.3f'  % accuracy_score(testy, yhat))\n",
    "print('Precision: %.3f' % precision_score(testy, yhat))\n",
    "print('Recall: %.3f'    % recall_score(testy, yhat))\n",
    "print('F-measure: %.3f' % f1_score(testy, yhat))\n",
    "print('ROC AUC:  %.3f'  % roc_auc_score(testy, yhat))"
   ]
  }
 ],
 "metadata": {
  "interpreter": {
   "hash": "461c46b9803ba338ffc75cdc77e4a9392433d49f705c691da68d2d4e761a221f"
  },
  "kernelspec": {
   "display_name": "Python 3.9.7 ('venv_license_status')",
   "language": "python",
   "name": "python3"
  },
  "language_info": {
   "codemirror_mode": {
    "name": "ipython",
    "version": 3
   },
   "file_extension": ".py",
   "mimetype": "text/x-python",
   "name": "python",
   "nbconvert_exporter": "python",
   "pygments_lexer": "ipython3",
   "version": "3.8.12"
  },
  "orig_nbformat": 4
 },
 "nbformat": 4,
 "nbformat_minor": 2
}
