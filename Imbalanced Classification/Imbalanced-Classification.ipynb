{
 "cells": [
  {
   "cell_type": "markdown",
   "metadata": {},
   "source": [
    "# Imbalanced Classification With Python\n",
    "\n",
    "***This is my notes of 7-day Mini-Course (created by Jason Brownlee) <br>*** *May have some classmates insights*\n",
    "\n",
    "This crash course is broken down into 7 lessons.\n",
    "\n",
    "* Lesson 01: Challenge of Imbalanced Classification\n",
    "* Lesson 02: Intuition for Imbalanced Data\n",
    "* Lesson 03: Evaluate Imbalanced Classification Models\n",
    "* Lesson 04: Undersampling the Majority Class\n",
    "* Lesson 05: Oversampling the Minority Class\n",
    "* Lesson 06: Combine Data Undersampling and Oversampling\n",
    "* Lesson 07: Cost-Sensitive Algorithms"
   ]
  },
  {
   "cell_type": "markdown",
   "metadata": {},
   "source": [
    "## Challenge of Imbalanced Classification\n",
    "* Learners = representation + evaluation + optimization => Machine Learning <br>\n",
    "were designed around the assumption of an **equal number of examples for each class**\n",
    "\n",
    "* **Imbalanced data**: the classes are not represented equally. This results in models <br> that have poor predictive performance, specifically for the minority class. \n",
    "    * This is a problem because typically, the **minority class** is more important and <br> therefore the problem is more sensitive to classification errors <br> for the minority class than the majority class. \n",
    "* Most classification data sets do not have exactly equal number of instances in each class, <br>\n",
    " but a small difference often does not matter. \n",
    "* Many of the classification predictive modeling problems that we are interested in <br> solving in practice are imbalanced.\n",
    "\n",
    "**Ten general examples of problems that inherently have a class imbalanced**\n",
    "\n",
    "1. Fraud detection. There are much more good clients \n",
    "2. Weed detection from plant attributes\n",
    "3. Predicting customer churn behavior in telemarketing\n",
    "4. Airport security profiling travelers for terrorist threat. (TSA pre-check etc.)\n",
    "5. Legitimate vs spam email\n",
    "6. Automatic detection of defects in mass-produced products\n",
    "7. Any anomaly detection \n",
    "    * Detecting patients with rare genetic diseases in medical databases\n",
    "    * Normal ocean waves sensor data vs tsunami waves\n",
    "    * Predicting skin cancer from medical images \n",
    "    * Intrusion Detection\n",
    "8. Datacenter malfunction conditions of servers\n",
    "9. COVID-19 exposure detection\n",
    "10. Sentiment analysis where we see more positive reviews"
   ]
  }
 ],
 "metadata": {
  "interpreter": {
   "hash": "461c46b9803ba338ffc75cdc77e4a9392433d49f705c691da68d2d4e761a221f"
  },
  "kernelspec": {
   "display_name": "Python 3.9.7 ('venv_license_status')",
   "language": "python",
   "name": "python3"
  },
  "language_info": {
   "codemirror_mode": {
    "name": "ipython",
    "version": 3
   },
   "file_extension": ".py",
   "mimetype": "text/x-python",
   "name": "python",
   "nbconvert_exporter": "python",
   "pygments_lexer": "ipython3",
   "version": "3.9.7"
  },
  "orig_nbformat": 4
 },
 "nbformat": 4,
 "nbformat_minor": 2
}
