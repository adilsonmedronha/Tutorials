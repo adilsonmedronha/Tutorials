{
 "cells": [
  {
   "cell_type": "markdown",
   "metadata": {},
   "source": [
    "# Deep Learning for Natural Language Processing\n",
    "\n",
    "***This is my notes of 7-day Mini-Course (created by Jason Brownlee) <br>*** *May have some classmates insights*\n",
    "\n",
    "This crash course is broken down into 7 lessons.\n",
    "\n",
    "Below are 7 lessons that will get you started and productive with deep learning for natural language processing in Python:"
   ]
  },
  {
   "cell_type": "markdown",
   "metadata": {},
   "source": [
    "* Lesson 01: [Deep Learning and Natural Language](#01)\n",
    "* Lesson 02: [Cleaning Text Data](#02)\n",
    "* Lesson 03: [Bag-of-Words Model](#03)\n",
    "* Lesson 04: [Word Embedding Representation](#04)\n",
    "* Lesson 05: [Learned Embedding](#05)\n",
    "* Lesson 06: [Classifying Text](#06)\n",
    "* Lesson 07: [Movie Review Sentiment Analysis Project](#07)"
   ]
  }
 ],
 "metadata": {
  "language_info": {
   "name": "python"
  },
  "orig_nbformat": 4
 },
 "nbformat": 4,
 "nbformat_minor": 2
}
